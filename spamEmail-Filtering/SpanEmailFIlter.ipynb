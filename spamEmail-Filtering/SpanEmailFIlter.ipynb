{
 "cells": [
  {
   "cell_type": "code",
   "execution_count": 1,
   "metadata": {},
   "outputs": [],
   "source": [
    "\n",
    "# create a spam email filter using Naive Bayes\n",
    "import numpy as np\n",
    "import pandas as pd\n",
    "import pickle\n",
    "from sklearn.model_selection import train_test_split\n",
    "from sklearn.feature_extraction.text import CountVectorizer\n",
    "from sklearn.naive_bayes import MultinomialNB\n",
    "\n"
   ]
  },
  {
   "cell_type": "code",
   "execution_count": 2,
   "metadata": {},
   "outputs": [],
   "source": [
    "#import the dataset\n",
    "spam_df = pd.read_csv('./SpamEmail.csv')"
   ]
  },
  {
   "cell_type": "code",
   "execution_count": 3,
   "metadata": {},
   "outputs": [
    {
     "data": {
      "text/html": [
       "<div>\n",
       "<style scoped>\n",
       "    .dataframe tbody tr th:only-of-type {\n",
       "        vertical-align: middle;\n",
       "    }\n",
       "\n",
       "    .dataframe tbody tr th {\n",
       "        vertical-align: top;\n",
       "    }\n",
       "\n",
       "    .dataframe thead tr th {\n",
       "        text-align: left;\n",
       "    }\n",
       "\n",
       "    .dataframe thead tr:last-of-type th {\n",
       "        text-align: right;\n",
       "    }\n",
       "</style>\n",
       "<table border=\"1\" class=\"dataframe\">\n",
       "  <thead>\n",
       "    <tr>\n",
       "      <th></th>\n",
       "      <th colspan=\"4\" halign=\"left\">Message</th>\n",
       "    </tr>\n",
       "    <tr>\n",
       "      <th></th>\n",
       "      <th>count</th>\n",
       "      <th>unique</th>\n",
       "      <th>top</th>\n",
       "      <th>freq</th>\n",
       "    </tr>\n",
       "    <tr>\n",
       "      <th>Category</th>\n",
       "      <th></th>\n",
       "      <th></th>\n",
       "      <th></th>\n",
       "      <th></th>\n",
       "    </tr>\n",
       "  </thead>\n",
       "  <tbody>\n",
       "    <tr>\n",
       "      <th>ham</th>\n",
       "      <td>4825</td>\n",
       "      <td>4514</td>\n",
       "      <td>Xin lỗi tôi sẽ gọi lại sau</td>\n",
       "      <td>30</td>\n",
       "    </tr>\n",
       "    <tr>\n",
       "      <th>spam</th>\n",
       "      <td>747</td>\n",
       "      <td>639</td>\n",
       "      <td>Vui lòng gọi cho đại diện dịch vụ khách hàng c...</td>\n",
       "      <td>4</td>\n",
       "    </tr>\n",
       "  </tbody>\n",
       "</table>\n",
       "</div>"
      ],
      "text/plain": [
       "         Message                                                            \\\n",
       "           count unique                                                top   \n",
       "Category                                                                     \n",
       "ham         4825   4514                         Xin lỗi tôi sẽ gọi lại sau   \n",
       "spam         747    639  Vui lòng gọi cho đại diện dịch vụ khách hàng c...   \n",
       "\n",
       "               \n",
       "         freq  \n",
       "Category       \n",
       "ham        30  \n",
       "spam        4  "
      ]
     },
     "execution_count": 3,
     "metadata": {},
     "output_type": "execute_result"
    }
   ],
   "source": [
    "#inspect the dataset\n",
    "spam_df.groupby('Category').describe()"
   ]
  },
  {
   "cell_type": "code",
   "execution_count": 4,
   "metadata": {},
   "outputs": [
    {
     "data": {
      "text/html": [
       "<div>\n",
       "<style scoped>\n",
       "    .dataframe tbody tr th:only-of-type {\n",
       "        vertical-align: middle;\n",
       "    }\n",
       "\n",
       "    .dataframe tbody tr th {\n",
       "        vertical-align: top;\n",
       "    }\n",
       "\n",
       "    .dataframe thead th {\n",
       "        text-align: right;\n",
       "    }\n",
       "</style>\n",
       "<table border=\"1\" class=\"dataframe\">\n",
       "  <thead>\n",
       "    <tr style=\"text-align: right;\">\n",
       "      <th></th>\n",
       "      <th>Category</th>\n",
       "      <th>Message</th>\n",
       "      <th>spam</th>\n",
       "    </tr>\n",
       "  </thead>\n",
       "  <tbody>\n",
       "    <tr>\n",
       "      <th>0</th>\n",
       "      <td>ham</td>\n",
       "      <td>Hãy đến cho đến Jurong Point, điên rồ .. chỉ c...</td>\n",
       "      <td>0</td>\n",
       "    </tr>\n",
       "    <tr>\n",
       "      <th>1</th>\n",
       "      <td>ham</td>\n",
       "      <td>Ok lar ... nói đùa wif u oni ...</td>\n",
       "      <td>0</td>\n",
       "    </tr>\n",
       "    <tr>\n",
       "      <th>2</th>\n",
       "      <td>spam</td>\n",
       "      <td>Nhập miễn phí trong 2 WKLY Comp để giành chiến...</td>\n",
       "      <td>1</td>\n",
       "    </tr>\n",
       "    <tr>\n",
       "      <th>3</th>\n",
       "      <td>ham</td>\n",
       "      <td>Bạn không nói quá sớm ... bạn đã nói ...</td>\n",
       "      <td>0</td>\n",
       "    </tr>\n",
       "    <tr>\n",
       "      <th>4</th>\n",
       "      <td>ham</td>\n",
       "      <td>Không, tôi không nghĩ anh ấy đến USF, anh ấy s...</td>\n",
       "      <td>0</td>\n",
       "    </tr>\n",
       "    <tr>\n",
       "      <th>...</th>\n",
       "      <td>...</td>\n",
       "      <td>...</td>\n",
       "      <td>...</td>\n",
       "    </tr>\n",
       "    <tr>\n",
       "      <th>5567</th>\n",
       "      <td>spam</td>\n",
       "      <td>Đây là lần thứ 2 chúng tôi đã thử 2 liên hệ u....</td>\n",
       "      <td>1</td>\n",
       "    </tr>\n",
       "    <tr>\n",
       "      <th>5568</th>\n",
       "      <td>ham</td>\n",
       "      <td>Ã¼ b sẽ đến nhà Esplanade?</td>\n",
       "      <td>0</td>\n",
       "    </tr>\n",
       "    <tr>\n",
       "      <th>5569</th>\n",
       "      <td>ham</td>\n",
       "      <td>Đáng tiếc, * đã có tâm trạng cho điều đó. Vì v...</td>\n",
       "      <td>0</td>\n",
       "    </tr>\n",
       "    <tr>\n",
       "      <th>5570</th>\n",
       "      <td>ham</td>\n",
       "      <td>Anh chàng đã làm một số chó cái nhưng tôi đã h...</td>\n",
       "      <td>0</td>\n",
       "    </tr>\n",
       "    <tr>\n",
       "      <th>5571</th>\n",
       "      <td>ham</td>\n",
       "      <td>ROFL. Nó đúng với tên của nó</td>\n",
       "      <td>0</td>\n",
       "    </tr>\n",
       "  </tbody>\n",
       "</table>\n",
       "<p>5572 rows × 3 columns</p>\n",
       "</div>"
      ],
      "text/plain": [
       "     Category                                            Message  spam\n",
       "0         ham  Hãy đến cho đến Jurong Point, điên rồ .. chỉ c...     0\n",
       "1         ham                   Ok lar ... nói đùa wif u oni ...     0\n",
       "2        spam  Nhập miễn phí trong 2 WKLY Comp để giành chiến...     1\n",
       "3         ham           Bạn không nói quá sớm ... bạn đã nói ...     0\n",
       "4         ham  Không, tôi không nghĩ anh ấy đến USF, anh ấy s...     0\n",
       "...       ...                                                ...   ...\n",
       "5567     spam  Đây là lần thứ 2 chúng tôi đã thử 2 liên hệ u....     1\n",
       "5568      ham                         Ã¼ b sẽ đến nhà Esplanade?     0\n",
       "5569      ham  Đáng tiếc, * đã có tâm trạng cho điều đó. Vì v...     0\n",
       "5570      ham  Anh chàng đã làm một số chó cái nhưng tôi đã h...     0\n",
       "5571      ham                       ROFL. Nó đúng với tên của nó     0\n",
       "\n",
       "[5572 rows x 3 columns]"
      ]
     },
     "execution_count": 4,
     "metadata": {},
     "output_type": "execute_result"
    }
   ],
   "source": [
    "#turn spam/ham into numerical values , create a new column call 'spam'\n",
    "spam_df['spam'] = spam_df['Category'].apply(lambda x: 1 if x == 'spam' else 0)\n",
    "spam_df"
   ]
  },
  {
   "cell_type": "code",
   "execution_count": null,
   "metadata": {},
   "outputs": [],
   "source": []
  },
  {
   "cell_type": "code",
   "execution_count": 5,
   "metadata": {},
   "outputs": [
    {
     "name": "stderr",
     "output_type": "stream",
     "text": [
      "C:\\Users\\IBM\\AppData\\Local\\Temp\\ipykernel_2452\\160975084.py:3: FutureWarning: The default value of regex will change from True to False in a future version.\n",
      "  spam_df['Message'] = spam_df['Message'].str.lower().str.replace('\\s+', ' ').str.replace('\\d+', '')\n"
     ]
    },
    {
     "data": {
      "text/html": [
       "<div>\n",
       "<style scoped>\n",
       "    .dataframe tbody tr th:only-of-type {\n",
       "        vertical-align: middle;\n",
       "    }\n",
       "\n",
       "    .dataframe tbody tr th {\n",
       "        vertical-align: top;\n",
       "    }\n",
       "\n",
       "    .dataframe thead th {\n",
       "        text-align: right;\n",
       "    }\n",
       "</style>\n",
       "<table border=\"1\" class=\"dataframe\">\n",
       "  <thead>\n",
       "    <tr style=\"text-align: right;\">\n",
       "      <th></th>\n",
       "      <th>Category</th>\n",
       "      <th>Message</th>\n",
       "      <th>spam</th>\n",
       "    </tr>\n",
       "  </thead>\n",
       "  <tbody>\n",
       "    <tr>\n",
       "      <th>0</th>\n",
       "      <td>ham</td>\n",
       "      <td>hãy đến cho đến jurong point, điên rồ .. chỉ c...</td>\n",
       "      <td>0</td>\n",
       "    </tr>\n",
       "    <tr>\n",
       "      <th>1</th>\n",
       "      <td>ham</td>\n",
       "      <td>ok lar ... nói đùa wif u oni ...</td>\n",
       "      <td>0</td>\n",
       "    </tr>\n",
       "    <tr>\n",
       "      <th>2</th>\n",
       "      <td>spam</td>\n",
       "      <td>nhập miễn phí trong  wkly comp để giành chiến ...</td>\n",
       "      <td>1</td>\n",
       "    </tr>\n",
       "    <tr>\n",
       "      <th>3</th>\n",
       "      <td>ham</td>\n",
       "      <td>bạn không nói quá sớm ... bạn đã nói ...</td>\n",
       "      <td>0</td>\n",
       "    </tr>\n",
       "    <tr>\n",
       "      <th>4</th>\n",
       "      <td>ham</td>\n",
       "      <td>không, tôi không nghĩ anh ấy đến usf, anh ấy s...</td>\n",
       "      <td>0</td>\n",
       "    </tr>\n",
       "    <tr>\n",
       "      <th>...</th>\n",
       "      <td>...</td>\n",
       "      <td>...</td>\n",
       "      <td>...</td>\n",
       "    </tr>\n",
       "    <tr>\n",
       "      <th>5567</th>\n",
       "      <td>spam</td>\n",
       "      <td>đây là lần thứ  chúng tôi đã thử  liên hệ u. b...</td>\n",
       "      <td>1</td>\n",
       "    </tr>\n",
       "    <tr>\n",
       "      <th>5568</th>\n",
       "      <td>ham</td>\n",
       "      <td>ã¼ b sẽ đến nhà esplanade?</td>\n",
       "      <td>0</td>\n",
       "    </tr>\n",
       "    <tr>\n",
       "      <th>5569</th>\n",
       "      <td>ham</td>\n",
       "      <td>đáng tiếc, * đã có tâm trạng cho điều đó. vì v...</td>\n",
       "      <td>0</td>\n",
       "    </tr>\n",
       "    <tr>\n",
       "      <th>5570</th>\n",
       "      <td>ham</td>\n",
       "      <td>anh chàng đã làm một số chó cái nhưng tôi đã h...</td>\n",
       "      <td>0</td>\n",
       "    </tr>\n",
       "    <tr>\n",
       "      <th>5571</th>\n",
       "      <td>ham</td>\n",
       "      <td>rofl. nó đúng với tên của nó</td>\n",
       "      <td>0</td>\n",
       "    </tr>\n",
       "  </tbody>\n",
       "</table>\n",
       "<p>5572 rows × 3 columns</p>\n",
       "</div>"
      ],
      "text/plain": [
       "     Category                                            Message  spam\n",
       "0         ham  hãy đến cho đến jurong point, điên rồ .. chỉ c...     0\n",
       "1         ham                   ok lar ... nói đùa wif u oni ...     0\n",
       "2        spam  nhập miễn phí trong  wkly comp để giành chiến ...     1\n",
       "3         ham           bạn không nói quá sớm ... bạn đã nói ...     0\n",
       "4         ham  không, tôi không nghĩ anh ấy đến usf, anh ấy s...     0\n",
       "...       ...                                                ...   ...\n",
       "5567     spam  đây là lần thứ  chúng tôi đã thử  liên hệ u. b...     1\n",
       "5568      ham                         ã¼ b sẽ đến nhà esplanade?     0\n",
       "5569      ham  đáng tiếc, * đã có tâm trạng cho điều đó. vì v...     0\n",
       "5570      ham  anh chàng đã làm một số chó cái nhưng tôi đã h...     0\n",
       "5571      ham                       rofl. nó đúng với tên của nó     0\n",
       "\n",
       "[5572 rows x 3 columns]"
      ]
     },
     "execution_count": 5,
     "metadata": {},
     "output_type": "execute_result"
    }
   ],
   "source": [
    "#Pre-processing\n",
    "# Convert all to regular letters and Remove extra spaces.\n",
    "spam_df['Message'] = spam_df['Message'].str.lower().str.replace('\\s+', ' ').str.replace('\\d+', '')\n",
    "spam_df\n",
    "\n",
    "\n",
    "\n"
   ]
  },
  {
   "cell_type": "code",
   "execution_count": 6,
   "metadata": {},
   "outputs": [
    {
     "data": {
      "text/plain": [
       "count                           4179\n",
       "unique                          3895\n",
       "top       xin lỗi tôi sẽ gọi lại sau\n",
       "freq                              25\n",
       "Name: Message, dtype: object"
      ]
     },
     "execution_count": 6,
     "metadata": {},
     "output_type": "execute_result"
    }
   ],
   "source": [
    "#create train and test split\n",
    "X_train, X_test, y_train, y_test = train_test_split(spam_df['Message'], spam_df['spam'], test_size=0.25)\n",
    "X_train.describe()"
   ]
  },
  {
   "cell_type": "code",
   "execution_count": 7,
   "metadata": {},
   "outputs": [],
   "source": [
    "# The first stage is used for pre-processing and analyzing the received  Vietnamese email into the single words and the compound words. \n",
    "# The second stage applies the NaIve Bayesian algorithm basing on the analyzed tokens to calculate the probability of spam or ham email. \n",
    "# The last stage is the token self-learning process after the kinds of email such as spam, or ham are identified.\n",
    "\n",
    "X_train, X_test, y_train, y_test = train_test_split(spam_df['Message'], spam_df['spam'], test_size=0.25)\n"
   ]
  },
  {
   "cell_type": "code",
   "execution_count": 8,
   "metadata": {},
   "outputs": [
    {
     "data": {
      "text/plain": [
       "array([[0, 0, 0, ..., 0, 0, 0],\n",
       "       [0, 0, 0, ..., 0, 0, 0],\n",
       "       [0, 0, 0, ..., 0, 0, 0],\n",
       "       ...,\n",
       "       [0, 0, 0, ..., 0, 0, 0],\n",
       "       [0, 0, 0, ..., 0, 0, 0],\n",
       "       [0, 0, 0, ..., 0, 0, 0]], dtype=int64)"
      ]
     },
     "execution_count": 8,
     "metadata": {},
     "output_type": "execute_result"
    }
   ],
   "source": [
    "#find word count and store data as a matrix\n",
    "cv = CountVectorizer() \n",
    "X_train_count = cv.fit_transform(X_train.values) \n",
    "X_train_count.toarray()\n"
   ]
  },
  {
   "cell_type": "code",
   "execution_count": 9,
   "metadata": {},
   "outputs": [
    {
     "data": {
      "text/plain": [
       "MultinomialNB()"
      ]
     },
     "execution_count": 9,
     "metadata": {},
     "output_type": "execute_result"
    }
   ],
   "source": [
    "#train  model\n",
    "model = MultinomialNB() #multinomial naive bayes is used for classification with discrete features (e.g., word counts for text classification)\n",
    "model.fit(X_train_count, y_train) #fitting the model"
   ]
  },
  {
   "cell_type": "code",
   "execution_count": 10,
   "metadata": {},
   "outputs": [
    {
     "data": {
      "text/plain": [
       "array([0, 0, 0], dtype=int64)"
      ]
     },
     "execution_count": 10,
     "metadata": {},
     "output_type": "execute_result"
    }
   ],
   "source": [
    "ham_email =[ 'Xin lỗi tôi sẽ gọi lại sau',\n",
    "            'Ngay cả anh trai tôi cũng không thích nói chuyện với tôi',\n",
    "            'bạn rảnh không?']\n",
    "ham_email_count = cv.transform(ham_email)\n",
    "model.predict(ham_email_count)\n"
   ]
  },
  {
   "cell_type": "code",
   "execution_count": 11,
   "metadata": {},
   "outputs": [
    {
     "data": {
      "text/plain": [
       "array([1, 1, 1], dtype=int64)"
      ]
     },
     "execution_count": 11,
     "metadata": {},
     "output_type": "execute_result"
    }
   ],
   "source": [
    "spam_email = ['SĂN DEAL HOT LG MỪNG BLACK FRIDAY',\n",
    "              'Nhập miễn phí 2 khoa hoc cua hoc vien',\n",
    "              'KHẨN CẤP! Bạn đã giành được tư cách thành viên miễn phí trong 1 tuần trong giải thưởng giải thưởng trị giá 100.000 bảng của chúng tôi! TXT Từ: Yêu cầu NO: 81010 T & C www.dbuk.net LCCLTD POBOX 4403LDNW1A7RW18']\n",
    "\n",
    "spam_email_count = cv.transform(spam_email)\n",
    "model.predict(spam_email_count)"
   ]
  },
  {
   "cell_type": "code",
   "execution_count": 12,
   "metadata": {},
   "outputs": [
    {
     "data": {
      "text/plain": [
       "97.84637473079684"
      ]
     },
     "execution_count": 12,
     "metadata": {},
     "output_type": "execute_result"
    }
   ],
   "source": [
    "#test model \n",
    "X_test_count = cv.transform(X_test)\n",
    "model.score(X_test_count, y_test)*100.0\n"
   ]
  },
  {
   "cell_type": "code",
   "execution_count": null,
   "metadata": {},
   "outputs": [],
   "source": [
    "\n",
    "\n"
   ]
  },
  {
   "cell_type": "code",
   "execution_count": 13,
   "metadata": {},
   "outputs": [],
   "source": [
    "#KNN\n",
    "\n",
    "# from sklearn.neighbors import KNeighborsClassifier\n",
    "# k= 3\n",
    "# model = KNeighborsClassifier(n_neighbors=k)\n",
    "# model.fit(X_train_count, y_train)"
   ]
  },
  {
   "cell_type": "code",
   "execution_count": 14,
   "metadata": {},
   "outputs": [],
   "source": [
    "# emails = ['SĂN DEAL HOT LG MỪNG BLACK FRIDAY']\n",
    "# emails_count = cv.transform(emails)\n",
    "# model.predict(emails_count)\n"
   ]
  },
  {
   "cell_type": "code",
   "execution_count": 15,
   "metadata": {},
   "outputs": [],
   "source": [
    "# x_test_count = cv.transform(X_test)\n",
    "# model.score(x_test_count, y_test)\n"
   ]
  }
 ],
 "metadata": {
  "kernelspec": {
   "display_name": "base",
   "language": "python",
   "name": "python3"
  },
  "language_info": {
   "codemirror_mode": {
    "name": "ipython",
    "version": 3
   },
   "file_extension": ".py",
   "mimetype": "text/x-python",
   "name": "python",
   "nbconvert_exporter": "python",
   "pygments_lexer": "ipython3",
   "version": "3.9.12"
  },
  "orig_nbformat": 4,
  "vscode": {
   "interpreter": {
    "hash": "bc3b045e63df902dccec11e3a752df300b0a80e0b3b75cb5d111a5ed85948041"
   }
  }
 },
 "nbformat": 4,
 "nbformat_minor": 2
}
